{
 "cells": [
  {
   "cell_type": "markdown",
   "id": "430e08ed-8a28-411c-8777-3181fe98cf1a",
   "metadata": {},
   "source": [
    "************ #Q1 ****************"
   ]
  },
  {
   "cell_type": "code",
   "execution_count": 1,
   "id": "5f29417b-e4b4-478a-9157-f24d4d0e4140",
   "metadata": {},
   "outputs": [
    {
     "name": "stderr",
     "output_type": "stream",
     "text": [
      "C:\\Users\\ahmed\\anaconda3\\envs\\encode\\Lib\\site-packages\\tqdm\\auto.py:21: TqdmWarning: IProgress not found. Please update jupyter and ipywidgets. See https://ipywidgets.readthedocs.io/en/stable/user_install.html\n",
      "  from .autonotebook import tqdm as notebook_tqdm\n"
     ]
    }
   ],
   "source": [
    "from tqdm.auto import tqdm"
   ]
  },
  {
   "cell_type": "code",
   "execution_count": 2,
   "id": "1f5e2b38-4b28-4c26-82f4-ed317e311aa2",
   "metadata": {},
   "outputs": [],
   "source": [
    "from sentence_transformers import SentenceTransformer\n",
    "model_name = 'multi-qa-distilbert-cos-v1'\n",
    "embedding_model = SentenceTransformer(model_name)"
   ]
  },
  {
   "cell_type": "code",
   "execution_count": 3,
   "id": "18fd0e4e-5384-4f49-a362-c8b2dbcb74f3",
   "metadata": {},
   "outputs": [],
   "source": [
    "user_question = \"I just discovered the course. Can I still join it?\""
   ]
  },
  {
   "cell_type": "code",
   "execution_count": 4,
   "id": "2471bb27-8031-4029-b242-6e85c684b609",
   "metadata": {},
   "outputs": [],
   "source": [
    "v= embedding_model.encode(user_question)"
   ]
  },
  {
   "cell_type": "code",
   "execution_count": 5,
   "id": "f5cc611c-11b6-406a-ae0d-c1ce2c82639a",
   "metadata": {},
   "outputs": [
    {
     "data": {
      "text/plain": [
       "0.07822266"
      ]
     },
     "execution_count": 5,
     "metadata": {},
     "output_type": "execute_result"
    }
   ],
   "source": [
    "v[0]"
   ]
  },
  {
   "cell_type": "code",
   "execution_count": 6,
   "id": "2ef7e962-3054-4d61-b21e-e47e4f4a50fe",
   "metadata": {},
   "outputs": [
    {
     "data": {
      "text/plain": [
       "768"
      ]
     },
     "execution_count": 6,
     "metadata": {},
     "output_type": "execute_result"
    }
   ],
   "source": [
    "len(v)"
   ]
  },
  {
   "cell_type": "markdown",
   "id": "24a80e0d-8e7a-4632-90b8-33bcb810176b",
   "metadata": {},
   "source": [
    "#Q1"
   ]
  },
  {
   "cell_type": "code",
   "execution_count": 7,
   "id": "1dd2d006-5259-4b6b-be6e-55ac4c098c76",
   "metadata": {},
   "outputs": [
    {
     "data": {
      "text/plain": [
       "array([ 0.07822266, -0.04013115,  0.03861359, -0.00017898,  0.08923472,\n",
       "       -0.05045916, -0.01050265,  0.03710557, -0.04187143,  0.03480845],\n",
       "      dtype=float32)"
      ]
     },
     "execution_count": 7,
     "metadata": {},
     "output_type": "execute_result"
    }
   ],
   "source": [
    "v[:10]"
   ]
  },
  {
   "cell_type": "markdown",
   "id": "42b46649-deec-460a-9685-be2605a421a0",
   "metadata": {},
   "source": [
    "************ Q2 ****************"
   ]
  },
  {
   "cell_type": "code",
   "execution_count": 8,
   "id": "b1b47110-fb8d-47ae-8257-22ae53986b74",
   "metadata": {},
   "outputs": [],
   "source": [
    "import requests \n",
    "\n",
    "base_url = 'https://github.com/DataTalksClub/llm-zoomcamp/blob/main'\n",
    "relative_url = '03-vector-search/eval/documents-with-ids.json'\n",
    "docs_url = f'{base_url}/{relative_url}?raw=1'\n",
    "docs_response = requests.get(docs_url)\n",
    "documents = docs_response.json()"
   ]
  },
  {
   "cell_type": "code",
   "execution_count": 9,
   "id": "39f796a8-8aed-490d-aca2-53bfe49ceb2f",
   "metadata": {},
   "outputs": [
    {
     "data": {
      "text/plain": [
       "{'text': \"The purpose of this document is to capture frequently asked technical questions\\nThe exact day and hour of the course will be 15th Jan 2024 at 17h00. The course will start with the first  “Office Hours'' live.1\\nSubscribe to course public Google Calendar (it works from Desktop only).\\nRegister before the course starts using this link.\\nJoin the course Telegram channel with announcements.\\nDon’t forget to register in DataTalks.Club's Slack and join the channel.\",\n",
       " 'section': 'General course-related questions',\n",
       " 'question': 'Course - When will the course start?',\n",
       " 'course': 'data-engineering-zoomcamp',\n",
       " 'id': 'c02e79ef'}"
      ]
     },
     "execution_count": 9,
     "metadata": {},
     "output_type": "execute_result"
    }
   ],
   "source": [
    "documents[0]"
   ]
  },
  {
   "cell_type": "code",
   "execution_count": 10,
   "id": "31e4c045-c3bd-4a73-9f6d-25ebc1704b2a",
   "metadata": {},
   "outputs": [
    {
     "data": {
      "text/plain": [
       "375"
      ]
     },
     "execution_count": 10,
     "metadata": {},
     "output_type": "execute_result"
    }
   ],
   "source": [
    "documents_f = [doc for doc in documents if doc['course'] == 'machine-learning-zoomcamp']\n",
    "len(documents_f)"
   ]
  },
  {
   "cell_type": "code",
   "execution_count": 11,
   "id": "4afb9559-af48-4ca9-b348-431fb01545e6",
   "metadata": {},
   "outputs": [
    {
     "data": {
      "text/plain": [
       "{'text': 'Machine Learning Zoomcamp FAQ\\nThe purpose of this document is to capture frequently asked technical questions.\\nWe did this for our data engineering course and it worked quite well. Check this document for inspiration on how to structure your questions and answers:\\nData Engineering Zoomcamp FAQ\\nIn the course GitHub repository there’s a link. Here it is: https://airtable.com/shryxwLd0COOEaqXo\\nwork',\n",
       " 'section': 'General course-related questions',\n",
       " 'question': 'How do I sign up?',\n",
       " 'course': 'machine-learning-zoomcamp',\n",
       " 'id': '0227b872'}"
      ]
     },
     "execution_count": 11,
     "metadata": {},
     "output_type": "execute_result"
    }
   ],
   "source": [
    "documents_f[0]"
   ]
  },
  {
   "cell_type": "code",
   "execution_count": 12,
   "id": "ee847d1f-df2b-4d29-a422-9d5fc08380e0",
   "metadata": {},
   "outputs": [
    {
     "name": "stderr",
     "output_type": "stream",
     "text": [
      "100%|████████████████████████████████████████████████████████████████████████████████| 375/375 [00:29<00:00, 12.50it/s]\n"
     ]
    }
   ],
   "source": [
    "import numpy as np\n",
    "embeddings = []\n",
    "for doc in tqdm(documents_f):\n",
    "    qa_text = f'{doc['question']} {doc['text']}'\n",
    "    embd= embedding_model.encode(qa_text)\n",
    "    embeddings.append(embd)\n",
    "X = np.array(embeddings)"
   ]
  },
  {
   "cell_type": "code",
   "execution_count": 13,
   "id": "aa2ac07c-5f09-4579-9613-d5878c223a9e",
   "metadata": {},
   "outputs": [
    {
     "data": {
      "text/plain": [
       "(375, 768)"
      ]
     },
     "execution_count": 13,
     "metadata": {},
     "output_type": "execute_result"
    }
   ],
   "source": [
    "X.shape"
   ]
  },
  {
   "cell_type": "markdown",
   "id": "c6db7b00-8bba-475c-86b0-e34dbcbcd1a2",
   "metadata": {},
   "source": [
    "********* Q3 **********"
   ]
  },
  {
   "cell_type": "code",
   "execution_count": 15,
   "id": "cb889db4-a9b5-432d-9e02-dc599090dde6",
   "metadata": {},
   "outputs": [],
   "source": [
    "scores = X.dot(v)\n"
   ]
  },
  {
   "cell_type": "code",
   "execution_count": 16,
   "id": "0fe79e2f-e2d2-4468-ae70-fab96bde5d52",
   "metadata": {},
   "outputs": [
    {
     "data": {
      "text/plain": [
       "0.65"
      ]
     },
     "execution_count": 16,
     "metadata": {},
     "output_type": "execute_result"
    }
   ],
   "source": [
    "max_values = round(max(scores),2)\n",
    "max_values"
   ]
  },
  {
   "cell_type": "markdown",
   "id": "e443a366-bb2a-4932-bdde-746136542b38",
   "metadata": {},
   "source": [
    "***** Q4 Hit-rate for our search engine *******"
   ]
  },
  {
   "cell_type": "code",
   "execution_count": 34,
   "id": "c36c0123-8dee-45dd-9fc8-31ceccbe039c",
   "metadata": {},
   "outputs": [
    {
     "data": {
      "text/plain": [
       "array([ 0.07822266, -0.04013115,  0.03861359, -0.00017898,  0.08923472,\n",
       "       -0.05045916, -0.01050265,  0.03710557, -0.04187143,  0.03480845],\n",
       "      dtype=float32)"
      ]
     },
     "execution_count": 34,
     "metadata": {},
     "output_type": "execute_result"
    }
   ],
   "source": [
    "v[:10]"
   ]
  },
  {
   "cell_type": "code",
   "execution_count": 17,
   "id": "018824e9-c64e-461e-b24c-2c9f46a69c4b",
   "metadata": {},
   "outputs": [],
   "source": [
    "class VectorSearchEngine():\n",
    "    def __init__(self, documents, embeddings):\n",
    "        self.documents = documents\n",
    "        self.embeddings = embeddings\n",
    "\n",
    "    def search(self, v_query, num_results=10):\n",
    "        scores = self.embeddings.dot(v_query)\n",
    "        idx = np.argsort(-scores)[:num_results]\n",
    "        return [self.documents[i] for i in idx]\n",
    "\n",
    "search_engine = VectorSearchEngine(documents=documents_f, embeddings=X)\n",
    "#search_engine.search(v, num_results=5)"
   ]
  },
  {
   "cell_type": "code",
   "execution_count": 18,
   "id": "3e7331e7-8d17-4794-a006-9a5f8f1f0557",
   "metadata": {},
   "outputs": [],
   "source": [
    "import pandas as pd\n",
    "\n",
    "base_url = 'https://github.com/DataTalksClub/llm-zoomcamp/blob/main'\n",
    "relative_url = '03-vector-search/eval/ground-truth-data.csv'\n",
    "ground_truth_url = f'{base_url}/{relative_url}?raw=1'\n",
    "\n",
    "df_ground_truth = pd.read_csv(ground_truth_url)\n",
    "df_ground_truth = df_ground_truth[df_ground_truth.course == 'machine-learning-zoomcamp']\n",
    "ground_truth = df_ground_truth.to_dict(orient='records')"
   ]
  },
  {
   "cell_type": "code",
   "execution_count": 19,
   "id": "d1bdd2e4-21f3-4df1-ba6a-d57948414ebe",
   "metadata": {},
   "outputs": [],
   "source": [
    "def hit_rate(relevance_total):\n",
    "    cnt = 0\n",
    "\n",
    "    for line in relevance_total:\n",
    "        if True in line:\n",
    "            cnt = cnt + 1\n",
    "\n",
    "    return cnt / len(relevance_total)"
   ]
  },
  {
   "cell_type": "code",
   "execution_count": 20,
   "id": "09cfa0dd-ac94-4d29-a9cc-b75fca5f6637",
   "metadata": {},
   "outputs": [],
   "source": [
    "def vector_Engine_search(q):\n",
    "    question = q['question']\n",
    "    course = q['course']\n",
    "    v_q = embedding_model.encode(question)\n",
    "\n",
    "    return search_engine.search(v_q)"
   ]
  },
  {
   "cell_type": "code",
   "execution_count": 21,
   "id": "69589b55-76af-4bcd-acc4-b5cb9ed7cd3e",
   "metadata": {},
   "outputs": [],
   "source": [
    "def evaluate(ground_truth, search_function):\n",
    "    relevance_total = []\n",
    "\n",
    "    for q in tqdm(ground_truth):\n",
    "        doc_id = q['document']\n",
    "        results = search_function(q)\n",
    "        \n",
    "        relevance = [d['id'] == doc_id for d in results]\n",
    "        relevance_total.append(relevance)\n",
    "\n",
    "    return hit_rate(relevance_total)"
   ]
  },
  {
   "cell_type": "code",
   "execution_count": 22,
   "id": "c2b55717-5bde-42b1-980b-81baf3f4c991",
   "metadata": {},
   "outputs": [
    {
     "name": "stderr",
     "output_type": "stream",
     "text": [
      "100%|██████████████████████████████████████████████████████████████████████████████| 1830/1830 [00:50<00:00, 36.17it/s]\n"
     ]
    },
    {
     "data": {
      "text/plain": [
       "0.9579234972677596"
      ]
     },
     "execution_count": 22,
     "metadata": {},
     "output_type": "execute_result"
    }
   ],
   "source": [
    "#***** @4 results *****\n",
    "evaluate(ground_truth, vector_Engine_search) #search_engine.search(v, num_results=5)"
   ]
  },
  {
   "cell_type": "markdown",
   "id": "b19ae0c9-a528-4667-b721-4bd46157d9d6",
   "metadata": {},
   "source": [
    "************ Q5 ****************"
   ]
  },
  {
   "cell_type": "code",
   "execution_count": 23,
   "id": "b774af40-4f17-4026-9865-89810a6de7e3",
   "metadata": {},
   "outputs": [
    {
     "data": {
      "text/plain": [
       "{'text': 'Machine Learning Zoomcamp FAQ\\nThe purpose of this document is to capture frequently asked technical questions.\\nWe did this for our data engineering course and it worked quite well. Check this document for inspiration on how to structure your questions and answers:\\nData Engineering Zoomcamp FAQ\\nIn the course GitHub repository there’s a link. Here it is: https://airtable.com/shryxwLd0COOEaqXo\\nwork',\n",
       " 'section': 'General course-related questions',\n",
       " 'question': 'How do I sign up?',\n",
       " 'course': 'machine-learning-zoomcamp',\n",
       " 'id': '0227b872'}"
      ]
     },
     "execution_count": 23,
     "metadata": {},
     "output_type": "execute_result"
    }
   ],
   "source": [
    "documents_f[0]"
   ]
  },
  {
   "cell_type": "code",
   "execution_count": 28,
   "id": "d7510be7-99ea-48d9-932d-71368b15939f",
   "metadata": {},
   "outputs": [
    {
     "data": {
      "text/plain": [
       "ObjectApiResponse({'acknowledged': True, 'shards_acknowledged': True, 'index': 'course-questions'})"
      ]
     },
     "execution_count": 28,
     "metadata": {},
     "output_type": "execute_result"
    }
   ],
   "source": [
    "from elasticsearch import Elasticsearch\n",
    "\n",
    "es_client = Elasticsearch('http://localhost:9200') \n",
    "\n",
    "index_settings = {\n",
    "    \"settings\": {\n",
    "        \"number_of_shards\": 1,\n",
    "        \"number_of_replicas\": 0\n",
    "    },\n",
    "    \"mappings\": {\n",
    "        \"properties\": {\n",
    "            \"text\": {\"type\": \"text\"},\n",
    "            \"section\": {\"type\": \"text\"},\n",
    "            \"question\": {\"type\": \"text\"},\n",
    "            \"course\": {\"type\": \"keyword\"},\n",
    "            \"id\": {\"type\": \"keyword\"},\n",
    "            \"question_vector\": {\n",
    "                \"type\": \"dense_vector\",\n",
    "                \"dims\": 768,\n",
    "                \"index\": True,\n",
    "                \"similarity\": \"cosine\"\n",
    "            },\n",
    "            \"text_vector\": {\n",
    "                \"type\": \"dense_vector\",\n",
    "                \"dims\": 768,\n",
    "                \"index\": True,\n",
    "                \"similarity\": \"cosine\"\n",
    "            },\n",
    "            \"question_text_vector\": {\n",
    "                \"type\": \"dense_vector\",\n",
    "                \"dims\": 768,\n",
    "                \"index\": True,\n",
    "                \"similarity\": \"cosine\"\n",
    "            },\n",
    "        }\n",
    "    }\n",
    "}\n",
    "\n",
    "index_name = \"course-questions\"\n",
    "\n",
    "es_client.indices.delete(index=index_name, ignore_unavailable=True)\n",
    "es_client.indices.create(index=index_name, body=index_settings)"
   ]
  },
  {
   "cell_type": "code",
   "execution_count": 25,
   "id": "8bada367-2b76-4e83-b811-e962a0eab456",
   "metadata": {},
   "outputs": [
    {
     "name": "stderr",
     "output_type": "stream",
     "text": [
      "100%|████████████████████████████████████████████████████████████████████████████████| 375/375 [01:10<00:00,  5.34it/s]\n"
     ]
    }
   ],
   "source": [
    "from tqdm.auto import tqdm\n",
    "#use filtered documents\n",
    "for doc in tqdm(documents_f):\n",
    "    question = doc['question']\n",
    "    text = doc['text']\n",
    "    qt = f'{question} {text}'\n",
    "\n",
    "    doc['question_vector'] = embedding_model.encode(question)\n",
    "    doc['text_vector'] = embedding_model.encode(text)\n",
    "    doc['question_text_vector'] = embedding_model.encode(qt)"
   ]
  },
  {
   "cell_type": "code",
   "execution_count": 29,
   "id": "6dab72c0-79a4-42cd-a4db-259dfa12fd39",
   "metadata": {},
   "outputs": [
    {
     "name": "stderr",
     "output_type": "stream",
     "text": [
      "100%|████████████████████████████████████████████████████████████████████████████████| 375/375 [00:04<00:00, 83.66it/s]\n"
     ]
    }
   ],
   "source": [
    "for doc in tqdm(documents_f):\n",
    "    es_client.index(index=index_name, document=doc)"
   ]
  },
  {
   "cell_type": "code",
   "execution_count": 59,
   "id": "6ccb5b2b-e22b-43ba-b78e-2177d8cd7e92",
   "metadata": {},
   "outputs": [],
   "source": [
    "def elastic_search_knn_combined(vector, course):\n",
    "    search_query = {\n",
    "        \"size\": 5,\n",
    "        \"query\": {\n",
    "            \"bool\": {\n",
    "                \"must\": [\n",
    "                    {\n",
    "                        \"script_score\": {\n",
    "                            \"query\": {\n",
    "                                \"term\": {\n",
    "                                    \"course\": course\n",
    "                                }\n",
    "                            },\n",
    "                            \"script\": {\n",
    "                                \"source\": \"\"\"\n",
    "                                    cosineSimilarity(params.query_vector, 'question_vector') + \n",
    "                                    cosineSimilarity(params.query_vector, 'text_vector') + \n",
    "                                    cosineSimilarity(params.query_vector, 'question_text_vector') + \n",
    "                                    1\n",
    "                                \"\"\",\n",
    "                                \"params\": {\n",
    "                                    \"query_vector\": vector\n",
    "                                }\n",
    "                            }\n",
    "                        }\n",
    "                    }\n",
    "                ],\n",
    "                \"filter\": {\n",
    "                    \"term\": {\n",
    "                        \"course\": course\n",
    "                    }\n",
    "                }\n",
    "            }\n",
    "        },\n",
    "        \"_source\": [\"text\", \"section\", \"question\", \"course\", \"id\", \"score\"]\n",
    "    }\n",
    "\n",
    "    es_results = es_client.search(\n",
    "        index=index_name,\n",
    "        body=search_query\n",
    "    )\n",
    "    \n",
    "    result_docs = []\n",
    "    \n",
    "    for hit in es_results['hits']['hits']:\n",
    "        score = hit['_score']\n",
    "        result_docs.append(hit['_source'])\n",
    "\n",
    "    return result_docs#, es_results"
   ]
  },
  {
   "cell_type": "code",
   "execution_count": 64,
   "id": "32eab18f-9dfb-436f-ba44-08452652ad09",
   "metadata": {},
   "outputs": [],
   "source": [
    "def question_vector_knn(q):\n",
    "    question = q['question']\n",
    "    course = q['course']\n",
    "    qt = f'{question} {text}'\n",
    "    v_q = embedding_model.encode(question)\n",
    "\n",
    "    #return elastic_search_knn('question_vector', v_q, course)\n",
    "    return elastic_search_knn_combined(v_q, course)"
   ]
  },
  {
   "cell_type": "code",
   "execution_count": 61,
   "id": "1c054194-5516-41de-b3b3-7fd31dbac963",
   "metadata": {},
   "outputs": [
    {
     "data": {
      "text/plain": [
       "{'question': 'The course has already started. Can I still join it?',\n",
       " 'course': 'machine-learning-zoomcamp',\n",
       " 'section': 'General course-related questions',\n",
       " 'text': 'Yes, you can. You won’t be able to submit some of the homeworks, but you can still take part in the course.\\nIn order to get a certificate, you need to submit 2 out of 3 course projects and review 3 peers’ Projects by the deadline. It means that if you join the course at the end of November and manage to work on two projects, you will still be eligible for a certificate.',\n",
       " 'id': 'ee58a693'}"
      ]
     },
     "execution_count": 61,
     "metadata": {},
     "output_type": "execute_result"
    }
   ],
   "source": [
    "########### Q5 answer\n",
    "es_results = question_vector_knn(\n",
    "    {'question': 'I just discovered the course. Can I still join?',\n",
    "    'course':'machine-learning-zoomcamp'}\n",
    ")\n",
    "es_results[0]"
   ]
  },
  {
   "cell_type": "markdown",
   "id": "cf6fa815-ec5a-4723-8ca1-2066f6eac119",
   "metadata": {},
   "source": [
    "************ #Q6 ****************"
   ]
  },
  {
   "cell_type": "code",
   "execution_count": 67,
   "id": "50799ebc-7c11-4928-b3ba-646d184b6dec",
   "metadata": {},
   "outputs": [],
   "source": [
    "def elastic_search_fn(q):\n",
    "    question = q['question']\n",
    "    course = q['course']\n",
    "    results = question_vector_knn(q\n",
    "    \n",
    "    )\n",
    "\n",
    "    return results"
   ]
  },
  {
   "cell_type": "code",
   "execution_count": 68,
   "id": "028e777d-24a8-4369-b5ca-c0f75d75e591",
   "metadata": {},
   "outputs": [
    {
     "name": "stderr",
     "output_type": "stream",
     "text": [
      "100%|██████████████████████████████████████████████████████████████████████████████| 1830/1830 [02:45<00:00, 11.05it/s]\n"
     ]
    },
    {
     "data": {
      "text/plain": [
       "0.9218579234972678"
      ]
     },
     "execution_count": 68,
     "metadata": {},
     "output_type": "execute_result"
    }
   ],
   "source": [
    "evaluate(ground_truth, elastic_search_fn) #search_engine.search(v, num_results=5)"
   ]
  },
  {
   "cell_type": "code",
   "execution_count": null,
   "id": "4961b198-d133-47fd-abe1-c30e0c618e22",
   "metadata": {},
   "outputs": [],
   "source": []
  }
 ],
 "metadata": {
  "kernelspec": {
   "display_name": "Python 3 (ipykernel)",
   "language": "python",
   "name": "python3"
  },
  "language_info": {
   "codemirror_mode": {
    "name": "ipython",
    "version": 3
   },
   "file_extension": ".py",
   "mimetype": "text/x-python",
   "name": "python",
   "nbconvert_exporter": "python",
   "pygments_lexer": "ipython3",
   "version": "3.12.2"
  }
 },
 "nbformat": 4,
 "nbformat_minor": 5
}
